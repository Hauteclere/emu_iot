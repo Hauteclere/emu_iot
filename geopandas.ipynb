{
 "cells": [
  {
   "cell_type": "code",
   "execution_count": null,
   "metadata": {},
   "outputs": [],
   "source": []
  }
 ],
 "metadata": {
  "kernelspec": {
   "display_name": "venv",
   "language": "python",
   "name": "python3"
  },
  "language_info": {
   "name": "python",
   "version": "3.10.10"
  },
  "orig_nbformat": 4,
  "vscode": {
   "interpreter": {
    "hash": "9c1960afd13f10725e1ae883d85e69418fe212e19649890381e4fa1425fc2d2b"
   }
  }
 },
 "nbformat": 4,
 "nbformat_minor": 2
}

{
 "cells": [
  {
   "cell_type": "code",
   "execution_count": 4,
   "metadata": {},
   "outputs": [
    {
     "data": {
      "text/plain": [
       "\"['end_device_ids_device_id', 'end_device_ids_application_ids_application_id', 'end_device_ids_dev_eui', 'end_device_ids_dev_addr', 'received_at', 'uplink_message_f_port', 'uplink_message_f_cnt', 'uplink_message_frm_payload', 'uplink_message_decoded_payload', 'uplink_message_rx_metadata_0_gateway_ids_gateway_id', 'uplink_message_rx_metadata_0_gateway_ids_eui', 'uplink_message_rx_metadata_0_timestamp', 'uplink_message_rx_metadata_0_rssi', 'uplink_message_rx_metadata_0_channel_rssi', 'uplink_message_rx_metadata_0_snr', 'uplink_message_rx_metadata_0_channel_index', 'uplink_message_rx_metadata_0_received_at', 'uplink_message_settings_data_rate_lora_bandwidth', 'uplink_message_settings_data_rate_lora_spreading_factor', 'uplink_message_settings_data_rate_lora_coding_rate', 'uplink_message_settings_frequency', 'uplink_message_settings_timestamp', 'uplink_message_received_at', 'uplink_message_consumed_airtime', 'uplink_message_network_ids_net_id', 'uplink_message_network_ids_tenant_id', 'uplink_message_network_ids_cluster_id', 'uplink_message_network_ids_cluster_address', 'simulated', 'uplink_message_decoded_payload_co2', 'uplink_message_decoded_payload_hcho', 'uplink_message_decoded_payload_humidity', 'uplink_message_decoded_payload_light_level', 'uplink_message_decoded_payload_pir', 'uplink_message_decoded_payload_pm10', 'uplink_message_decoded_payload_pm2_5', 'uplink_message_decoded_payload_pressure', 'uplink_message_decoded_payload_temperature', 'uplink_message_decoded_payload_tvoc', 'uplink_message_decoded_payload_beep']\""
      ]
     },
     "execution_count": 4,
     "metadata": {},
     "output_type": "execute_result"
    }
   ],
   "source": [
    "import os\n",
    "import requests\n",
    "import json\n",
    "import pandas as pd \n",
    "\n",
    "\n",
    "def flatten_json(y):\n",
    "    out = {}\n",
    "    def flatten(x, name=''):\n",
    "        # If the Nested key-value\n",
    "        # pair is of dict type\n",
    "        if type(x) is dict:\n",
    "            for a in x:\n",
    "                flatten(x[a], name + a + '_')\n",
    "        # If the Nested key-value\n",
    "        # pair is of list type\n",
    "        elif type(x) is list:\n",
    "            i = 0\n",
    "            for a in x:\n",
    "                flatten(a, name + str(i) + '_')\n",
    "                i += 1\n",
    "        else:\n",
    "            out[name[:-1]] = x\n",
    "    flatten(y)\n",
    "    return out\n",
    "\n",
    "\n",
    "THINGSTACK_KEY = os.environ.get(\"THINGSTACK_KEY\")\n",
    "THINGSTACK_URL = os.environ.get(\"THINGSTACK_URL\")\n",
    "\n",
    "response = requests.get(\n",
    "    THINGSTACK_URL,\n",
    "    headers={\n",
    "        'Authorization': f'Bearer {THINGSTACK_KEY}',\n",
    "    }\n",
    ")\n",
    "\n",
    "response_json = json.loads('['+response.text.replace(\"\\n{\", \",{\")+']')\n",
    "\n",
    "row_dict = {index: flatten_json(measurement[\"result\"]) for index, measurement in enumerate(response_json)}\n",
    "\n",
    "frame = pd.DataFrame.from_dict(row_dict, orient=\"index\")\n",
    "\n",
    "frame.head()\n"
   ]
  },
  {
   "cell_type": "code",
   "execution_count": null,
   "metadata": {},
   "outputs": [],
   "source": []
  }
 ],
 "metadata": {
  "kernelspec": {
   "display_name": "venv",
   "language": "python",
   "name": "python3"
  },
  "language_info": {
   "codemirror_mode": {
    "name": "ipython",
    "version": 3
   },
   "file_extension": ".py",
   "mimetype": "text/x-python",
   "name": "python",
   "nbconvert_exporter": "python",
   "pygments_lexer": "ipython3",
   "version": "3.10.10"
  },
  "orig_nbformat": 4,
  "vscode": {
   "interpreter": {
    "hash": "9c1960afd13f10725e1ae883d85e69418fe212e19649890381e4fa1425fc2d2b"
   }
  }
 },
 "nbformat": 4,
 "nbformat_minor": 2
}

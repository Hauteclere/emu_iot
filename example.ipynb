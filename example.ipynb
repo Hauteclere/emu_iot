{
 "cells": [
  {
   "cell_type": "code",
   "execution_count": 5,
   "metadata": {},
   "outputs": [
    {
     "ename": "AttributeError",
     "evalue": "'S3' object has no attribute 'Bucket'",
     "output_type": "error",
     "traceback": [
      "\u001b[0;31m---------------------------------------------------------------------------\u001b[0m",
      "\u001b[0;31mAttributeError\u001b[0m                            Traceback (most recent call last)",
      "Cell \u001b[0;32mIn[5], line 14\u001b[0m\n\u001b[1;32m      6\u001b[0m \u001b[39mimport\u001b[39;00m \u001b[39mos\u001b[39;00m\n\u001b[1;32m      8\u001b[0m client \u001b[39m=\u001b[39m boto3\u001b[39m.\u001b[39mclient(\n\u001b[1;32m      9\u001b[0m     \u001b[39m'\u001b[39m\u001b[39ms3\u001b[39m\u001b[39m'\u001b[39m,\n\u001b[1;32m     10\u001b[0m     aws_access_key_id\u001b[39m=\u001b[39mos\u001b[39m.\u001b[39menviron\u001b[39m.\u001b[39mget(\u001b[39m\"\u001b[39m\u001b[39mACCESS_KEY\u001b[39m\u001b[39m\"\u001b[39m),\n\u001b[1;32m     11\u001b[0m     aws_secret_access_key\u001b[39m=\u001b[39mos\u001b[39m.\u001b[39menviron\u001b[39m.\u001b[39mget(\u001b[39m\"\u001b[39m\u001b[39mSECRET_KEY\u001b[39m\u001b[39m\"\u001b[39m),\n\u001b[1;32m     12\u001b[0m )\n\u001b[0;32m---> 14\u001b[0m client\u001b[39m.\u001b[39;49mBucket(\n\u001b[1;32m     15\u001b[0m     os\u001b[39m.\u001b[39menviron\u001b[39m.\u001b[39mget(\u001b[39m\"\u001b[39m\u001b[39mBUCKET_NAME\u001b[39m\u001b[39m\"\u001b[39m)\n\u001b[1;32m     16\u001b[0m )\u001b[39m.\u001b[39mdownload_file(\n\u001b[1;32m     17\u001b[0m     os\u001b[39m.\u001b[39menviron\u001b[39m.\u001b[39mget(\u001b[39m\"\u001b[39m\u001b[39mOBJECT_KEY\u001b[39m\u001b[39m\"\u001b[39m), \n\u001b[1;32m     18\u001b[0m     \u001b[39m'\u001b[39m\u001b[39m./downloads/file.csv\u001b[39m\u001b[39m'\u001b[39m,\n\u001b[1;32m     19\u001b[0m )\n",
      "File \u001b[0;32m~/emu/iot/venv/lib/python3.10/site-packages/botocore/client.py:876\u001b[0m, in \u001b[0;36mBaseClient.__getattr__\u001b[0;34m(self, item)\u001b[0m\n\u001b[1;32m    873\u001b[0m \u001b[39mif\u001b[39;00m event_response \u001b[39mis\u001b[39;00m \u001b[39mnot\u001b[39;00m \u001b[39mNone\u001b[39;00m:\n\u001b[1;32m    874\u001b[0m     \u001b[39mreturn\u001b[39;00m event_response\n\u001b[0;32m--> 876\u001b[0m \u001b[39mraise\u001b[39;00m \u001b[39mAttributeError\u001b[39;00m(\n\u001b[1;32m    877\u001b[0m     \u001b[39mf\u001b[39m\u001b[39m\"\u001b[39m\u001b[39m'\u001b[39m\u001b[39m{\u001b[39;00m\u001b[39mself\u001b[39m\u001b[39m.\u001b[39m\u001b[39m__class__\u001b[39m\u001b[39m.\u001b[39m\u001b[39m__name__\u001b[39m\u001b[39m}\u001b[39;00m\u001b[39m'\u001b[39m\u001b[39m object has no attribute \u001b[39m\u001b[39m'\u001b[39m\u001b[39m{\u001b[39;00mitem\u001b[39m}\u001b[39;00m\u001b[39m'\u001b[39m\u001b[39m\"\u001b[39m\n\u001b[1;32m    878\u001b[0m )\n",
      "\u001b[0;31mAttributeError\u001b[0m: 'S3' object has no attribute 'Bucket'"
     ]
    }
   ],
   "source": [
    "from dotenv import load_dotenv\n",
    "\n",
    "load_dotenv()\n",
    "\n",
    "import boto3\n",
    "import os\n",
    "\n",
    "s3 = boto3.resource('s3')\n",
    "s3.Bucket(\n",
    "    os.environ.get(\"BUCKET_NAME\")\n",
    ").download_file(\n",
    "    os.environ.get(\"OBJECT_KEY\"), \n",
    "    './downloads/file.csv',\n",
    ")\n",
    "\n"
   ]
  },
  {
   "cell_type": "code",
   "execution_count": null,
   "metadata": {},
   "outputs": [],
   "source": []
  }
 ],
 "metadata": {
  "kernelspec": {
   "display_name": "venv",
   "language": "python",
   "name": "python3"
  },
  "language_info": {
   "codemirror_mode": {
    "name": "ipython",
    "version": 3
   },
   "file_extension": ".py",
   "mimetype": "text/x-python",
   "name": "python",
   "nbconvert_exporter": "python",
   "pygments_lexer": "ipython3",
   "version": "3.10.10"
  },
  "orig_nbformat": 4,
  "vscode": {
   "interpreter": {
    "hash": "9c1960afd13f10725e1ae883d85e69418fe212e19649890381e4fa1425fc2d2b"
   }
  }
 },
 "nbformat": 4,
 "nbformat_minor": 2
}

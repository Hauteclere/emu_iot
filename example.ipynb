{
 "cells": [
  {
   "cell_type": "code",
   "execution_count": 35,
   "metadata": {},
   "outputs": [],
   "source": [
    "from dotenv import load_dotenv\n",
    "\n",
    "load_dotenv()\n",
    "\n",
    "import boto3\n",
    "import os\n",
    "\n",
    "import boto3\n",
    "session = boto3.Session(\n",
    "    aws_access_key_id=os.environ.get(\"AWS_ACCESS_KEY_ID\"),\n",
    "    aws_secret_access_key=os.environ.get(\"AWS_SECRET_ACCESS_KEY\"),\n",
    ")\n",
    "\n",
    "s3_resource = session.resource('s3')\n",
    "s3_client = boto3.client('s3')\n",
    "\n",
    "bucket = s3_resource.Bucket(name='emu-air-quality-bucket')\n",
    "\n",
    "latest_object = list(bucket.objects.all())[-1]\n",
    "\n",
    "with open(\"./download.csv\", 'wb') as file:\n",
    "    s3_client.download_fileobj(\n",
    "        bucket.name,\n",
    "        latest_object.key,\n",
    "        file\n",
    "    )\n",
    "\n",
    "\n",
    "\n"
   ]
  },
  {
   "cell_type": "code",
   "execution_count": null,
   "metadata": {},
   "outputs": [],
   "source": []
  }
 ],
 "metadata": {
  "kernelspec": {
   "display_name": "venv",
   "language": "python",
   "name": "python3"
  },
  "language_info": {
   "codemirror_mode": {
    "name": "ipython",
    "version": 3
   },
   "file_extension": ".py",
   "mimetype": "text/x-python",
   "name": "python",
   "nbconvert_exporter": "python",
   "pygments_lexer": "ipython3",
   "version": "3.10.10"
  },
  "orig_nbformat": 4,
  "vscode": {
   "interpreter": {
    "hash": "9c1960afd13f10725e1ae883d85e69418fe212e19649890381e4fa1425fc2d2b"
   }
  }
 },
 "nbformat": 4,
 "nbformat_minor": 2
}
